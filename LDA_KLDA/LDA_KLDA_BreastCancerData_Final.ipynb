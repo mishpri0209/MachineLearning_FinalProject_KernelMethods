{
 "cells": [
  {
   "cell_type": "code",
   "execution_count": 1,
   "metadata": {},
   "outputs": [],
   "source": [
    "import numpy as np\n",
    "from copy import deepcopy\n",
    "import random, math, sys\n",
    "from scipy.spatial.distance import pdist, squareform\n",
    "from numpy import exp\n",
    "from scipy.linalg import eigh\n",
    "import matplotlib.pyplot as plt\n",
    "import pandas as pd\n",
    "from sklearn import datasets\n",
    "from sklearn.tree import DecisionTreeClassifier\n",
    "from sklearn.metrics import confusion_matrix\n",
    "from sklearn.metrics import accuracy_score\n",
    "from sklearn.model_selection import train_test_split"
   ]
  },
  {
   "cell_type": "code",
   "execution_count": 2,
   "metadata": {},
   "outputs": [
    {
     "data": {
      "text/html": [
       "<div>\n",
       "<style scoped>\n",
       "    .dataframe tbody tr th:only-of-type {\n",
       "        vertical-align: middle;\n",
       "    }\n",
       "\n",
       "    .dataframe tbody tr th {\n",
       "        vertical-align: top;\n",
       "    }\n",
       "\n",
       "    .dataframe thead th {\n",
       "        text-align: right;\n",
       "    }\n",
       "</style>\n",
       "<table border=\"1\" class=\"dataframe\">\n",
       "  <thead>\n",
       "    <tr style=\"text-align: right;\">\n",
       "      <th></th>\n",
       "      <th>radius_mean</th>\n",
       "      <th>texture_mean</th>\n",
       "      <th>perimeter_mean</th>\n",
       "      <th>area_mean</th>\n",
       "      <th>smoothness_mean</th>\n",
       "      <th>compactness_mean</th>\n",
       "      <th>concavity_mean</th>\n",
       "      <th>concave points_mean</th>\n",
       "      <th>symmetry_mean</th>\n",
       "      <th>fractal_dimension_mean</th>\n",
       "      <th>...</th>\n",
       "      <th>texture_worst</th>\n",
       "      <th>perimeter_worst</th>\n",
       "      <th>area_worst</th>\n",
       "      <th>smoothness_worst</th>\n",
       "      <th>compactness_worst</th>\n",
       "      <th>concavity_worst</th>\n",
       "      <th>concave points_worst</th>\n",
       "      <th>symmetry_worst</th>\n",
       "      <th>fractal_dimension_worst</th>\n",
       "      <th>diagnosis</th>\n",
       "    </tr>\n",
       "  </thead>\n",
       "  <tbody>\n",
       "    <tr>\n",
       "      <th>0</th>\n",
       "      <td>19.772</td>\n",
       "      <td>11.336</td>\n",
       "      <td>134.599</td>\n",
       "      <td>1096.771</td>\n",
       "      <td>0.067</td>\n",
       "      <td>0.326</td>\n",
       "      <td>0.385</td>\n",
       "      <td>0.221</td>\n",
       "      <td>0.217</td>\n",
       "      <td>0.099</td>\n",
       "      <td>...</td>\n",
       "      <td>19.029</td>\n",
       "      <td>202.212</td>\n",
       "      <td>2211.972</td>\n",
       "      <td>0.212</td>\n",
       "      <td>0.737</td>\n",
       "      <td>0.781</td>\n",
       "      <td>0.287</td>\n",
       "      <td>0.466</td>\n",
       "      <td>0.133</td>\n",
       "      <td>0</td>\n",
       "    </tr>\n",
       "    <tr>\n",
       "      <th>1</th>\n",
       "      <td>22.601</td>\n",
       "      <td>19.453</td>\n",
       "      <td>145.467</td>\n",
       "      <td>1452.768</td>\n",
       "      <td>0.099</td>\n",
       "      <td>0.052</td>\n",
       "      <td>0.042</td>\n",
       "      <td>0.151</td>\n",
       "      <td>0.191</td>\n",
       "      <td>0.140</td>\n",
       "      <td>...</td>\n",
       "      <td>25.600</td>\n",
       "      <td>173.949</td>\n",
       "      <td>2143.103</td>\n",
       "      <td>0.137</td>\n",
       "      <td>0.282</td>\n",
       "      <td>0.311</td>\n",
       "      <td>0.184</td>\n",
       "      <td>0.302</td>\n",
       "      <td>0.196</td>\n",
       "      <td>0</td>\n",
       "    </tr>\n",
       "    <tr>\n",
       "      <th>2</th>\n",
       "      <td>21.507</td>\n",
       "      <td>23.214</td>\n",
       "      <td>142.380</td>\n",
       "      <td>1317.998</td>\n",
       "      <td>0.111</td>\n",
       "      <td>0.266</td>\n",
       "      <td>0.241</td>\n",
       "      <td>0.197</td>\n",
       "      <td>0.166</td>\n",
       "      <td>0.081</td>\n",
       "      <td>...</td>\n",
       "      <td>28.073</td>\n",
       "      <td>167.074</td>\n",
       "      <td>1872.370</td>\n",
       "      <td>0.119</td>\n",
       "      <td>0.395</td>\n",
       "      <td>0.459</td>\n",
       "      <td>0.300</td>\n",
       "      <td>0.361</td>\n",
       "      <td>0.126</td>\n",
       "      <td>0</td>\n",
       "    </tr>\n",
       "    <tr>\n",
       "      <th>3</th>\n",
       "      <td>12.505</td>\n",
       "      <td>22.374</td>\n",
       "      <td>85.098</td>\n",
       "      <td>423.055</td>\n",
       "      <td>0.275</td>\n",
       "      <td>0.252</td>\n",
       "      <td>0.280</td>\n",
       "      <td>0.107</td>\n",
       "      <td>0.250</td>\n",
       "      <td>0.120</td>\n",
       "      <td>...</td>\n",
       "      <td>28.946</td>\n",
       "      <td>108.286</td>\n",
       "      <td>622.059</td>\n",
       "      <td>0.168</td>\n",
       "      <td>0.971</td>\n",
       "      <td>0.728</td>\n",
       "      <td>0.266</td>\n",
       "      <td>0.737</td>\n",
       "      <td>0.349</td>\n",
       "      <td>0</td>\n",
       "    </tr>\n",
       "    <tr>\n",
       "      <th>4</th>\n",
       "      <td>22.227</td>\n",
       "      <td>15.690</td>\n",
       "      <td>148.024</td>\n",
       "      <td>1420.916</td>\n",
       "      <td>-0.032</td>\n",
       "      <td>0.261</td>\n",
       "      <td>0.230</td>\n",
       "      <td>0.120</td>\n",
       "      <td>0.120</td>\n",
       "      <td>0.087</td>\n",
       "      <td>...</td>\n",
       "      <td>18.287</td>\n",
       "      <td>166.754</td>\n",
       "      <td>1725.556</td>\n",
       "      <td>0.161</td>\n",
       "      <td>0.234</td>\n",
       "      <td>0.464</td>\n",
       "      <td>0.336</td>\n",
       "      <td>0.218</td>\n",
       "      <td>0.107</td>\n",
       "      <td>0</td>\n",
       "    </tr>\n",
       "  </tbody>\n",
       "</table>\n",
       "<p>5 rows × 31 columns</p>\n",
       "</div>"
      ],
      "text/plain": [
       "   radius_mean  texture_mean  perimeter_mean  area_mean  smoothness_mean  \\\n",
       "0       19.772        11.336         134.599   1096.771            0.067   \n",
       "1       22.601        19.453         145.467   1452.768            0.099   \n",
       "2       21.507        23.214         142.380   1317.998            0.111   \n",
       "3       12.505        22.374          85.098    423.055            0.275   \n",
       "4       22.227        15.690         148.024   1420.916           -0.032   \n",
       "\n",
       "   compactness_mean  concavity_mean  concave points_mean  symmetry_mean  \\\n",
       "0             0.326           0.385                0.221          0.217   \n",
       "1             0.052           0.042                0.151          0.191   \n",
       "2             0.266           0.241                0.197          0.166   \n",
       "3             0.252           0.280                0.107          0.250   \n",
       "4             0.261           0.230                0.120          0.120   \n",
       "\n",
       "   fractal_dimension_mean  ...  texture_worst  perimeter_worst  area_worst  \\\n",
       "0                   0.099  ...         19.029          202.212    2211.972   \n",
       "1                   0.140  ...         25.600          173.949    2143.103   \n",
       "2                   0.081  ...         28.073          167.074    1872.370   \n",
       "3                   0.120  ...         28.946          108.286     622.059   \n",
       "4                   0.087  ...         18.287          166.754    1725.556   \n",
       "\n",
       "   smoothness_worst  compactness_worst  concavity_worst  concave points_worst  \\\n",
       "0             0.212              0.737            0.781                 0.287   \n",
       "1             0.137              0.282            0.311                 0.184   \n",
       "2             0.119              0.395            0.459                 0.300   \n",
       "3             0.168              0.971            0.728                 0.266   \n",
       "4             0.161              0.234            0.464                 0.336   \n",
       "\n",
       "   symmetry_worst  fractal_dimension_worst  diagnosis  \n",
       "0           0.466                    0.133          0  \n",
       "1           0.302                    0.196          0  \n",
       "2           0.361                    0.126          0  \n",
       "3           0.737                    0.349          0  \n",
       "4           0.218                    0.107          0  \n",
       "\n",
       "[5 rows x 31 columns]"
      ]
     },
     "execution_count": 2,
     "metadata": {},
     "output_type": "execute_result"
    }
   ],
   "source": [
    "\n",
    "totalData =569\n",
    "df = pd.read_csv(\"train-data.csv\")\n",
    "\n",
    "\n",
    "df.drop(['id'], axis = 1, inplace = True)\n",
    "df.head()\n"
   ]
  },
  {
   "cell_type": "code",
   "execution_count": 3,
   "metadata": {},
   "outputs": [],
   "source": [
    "columns_with_na = df.columns[df.isna().any()].tolist()"
   ]
  },
  {
   "cell_type": "code",
   "execution_count": 4,
   "metadata": {},
   "outputs": [],
   "source": [
    "for col_name in columns_with_na:\n",
    "    df[col_name].fillna(df[col_name].median(), inplace=True)\n"
   ]
  },
  {
   "cell_type": "code",
   "execution_count": 5,
   "metadata": {},
   "outputs": [],
   "source": [
    "array = df.values\n",
    "X_data = array[:,1:]\n",
    "Y=array[:,30:]\n"
   ]
  },
  {
   "cell_type": "code",
   "execution_count": 6,
   "metadata": {},
   "outputs": [],
   "source": [
    "# split our data into training and validation sets (since we already have a separate test set)\n",
    "\n",
    "X_train, X_test, y_train, y_test = train_test_split(df.iloc[:,:-1], df['diagnosis'], train_size=0.8, test_size=0.2,\n",
    "                                                  random_state=120)"
   ]
  },
  {
   "cell_type": "code",
   "execution_count": 7,
   "metadata": {},
   "outputs": [
    {
     "data": {
      "text/plain": [
       "1    62.741652\n",
       "0    37.258348\n",
       "Name: diagnosis, dtype: float64"
      ]
     },
     "execution_count": 7,
     "metadata": {},
     "output_type": "execute_result"
    }
   ],
   "source": [
    "df['diagnosis'].value_counts(normalize=True) * 100"
   ]
  },
  {
   "cell_type": "code",
   "execution_count": 8,
   "metadata": {},
   "outputs": [],
   "source": [
    "# Normalize the featues\n",
    "\n",
    "from sklearn.preprocessing import Normalizer\n",
    "\n",
    "norm = Normalizer()\n",
    "norm.fit(X_train)\n",
    "X_train_norm = norm.transform(X_train)\n",
    "X_test_norm = norm.transform(X_test)"
   ]
  },
  {
   "cell_type": "code",
   "execution_count": 9,
   "metadata": {},
   "outputs": [
    {
     "name": "stderr",
     "output_type": "stream",
     "text": [
      "C:\\ProgramData\\Anaconda3\\lib\\site-packages\\sklearn\\utils\\validation.py:73: DataConversionWarning: A column-vector y was passed when a 1d array was expected. Please change the shape of y to (n_samples, ), for example using ravel().\n",
      "  return f(**kwargs)\n"
     ]
    }
   ],
   "source": [
    "from sklearn.discriminant_analysis import LinearDiscriminantAnalysis as LDA\n",
    "\n",
    "lda = LDA(n_components = 1)\n",
    "X_LDA = lda.fit_transform(X_data, Y)\n",
    "X_val = lda.transform(X_test)\n",
    "\n"
   ]
  },
  {
   "cell_type": "code",
   "execution_count": 10,
   "metadata": {},
   "outputs": [
    {
     "name": "stdout",
     "output_type": "stream",
     "text": [
      "[[52  3]\n",
      " [ 7 81]]\n",
      "Accuracy -> 0.9300699300699301\n"
     ]
    }
   ],
   "source": [
    "X_train, X_test, y_train, y_test = train_test_split(X_LDA, Y, random_state=1)\n",
    "dt = DecisionTreeClassifier()\n",
    "dt.fit(X_train, y_train)\n",
    "y_pred = dt.predict(X_test)\n",
    "confusion_matrix=confusion_matrix(y_test, y_pred)\n",
    "print(confusion_matrix)\n",
    "\n",
    "print('Accuracy -> ' + str(accuracy_score(y_test, y_pred)))"
   ]
  },
  {
   "cell_type": "code",
   "execution_count": 11,
   "metadata": {},
   "outputs": [
    {
     "name": "stdout",
     "output_type": "stream",
     "text": [
      "569\n"
     ]
    }
   ],
   "source": [
    "z=df.loc[:,['diagnosis']].values\n",
    "print(len(z))\n",
    "\n"
   ]
  },
  {
   "cell_type": "code",
   "execution_count": 12,
   "metadata": {},
   "outputs": [],
   "source": [
    "def gaussianKernel(gamma, distance):\n",
    "    return np.exp(-gamma * distance)\n",
    "\n",
    "def polykernel(X):\n",
    "    K = np.zeros(shape=(len(X), len(X)))\n",
    "    for i in range(len(X)):\n",
    "        for j in range(len(X)):\n",
    "            k = 1 + np.dot(X[i].T,X[j]) \n",
    "            k = math.pow(k, 3)\n",
    "            K[i][j] = k\n",
    "    return K\n",
    "\n",
    "def linear(X):\n",
    "    K = np.zeros(shape=(len(X), len(X)))\n",
    "    for i in range(len(X)):\n",
    "        for j in range(len(X)):\n",
    "            k = 1 + np.dot(X[i].T,X[j]) \n",
    "            k = math.pow(k, 1)\n",
    "            K[i][j] = k\n",
    "    return K"
   ]
  },
  {
   "cell_type": "code",
   "execution_count": 17,
   "metadata": {},
   "outputs": [],
   "source": [
    "def kernellda(X, gamma,z):\n",
    "    target_label=z\n",
    "    data=X\n",
    "    print(data[0][0])\n",
    "    print(data.shape)\n",
    "    labels = []\n",
    "    class1 = 0\n",
    "    class2 = 0\n",
    "    for i in range(totalData):\n",
    "        label = int(z[i])\n",
    "        if label ==1:\n",
    "            class1 += 1\n",
    "        else: class2 += 1\n",
    "        labels.append(label)\n",
    "\n",
    "    D = pdist(data, 'sqeuclidean')\n",
    "    A = squareform(D)\n",
    "    kernel = exp(-gamma * A)\n",
    "    B = np.ones((totalData, totalData)) / totalData\n",
    "    \n",
    "    kernel = kernel - B.dot(kernel) - kernel.dot(B) + B.dot(kernel).dot(B)\n",
    "    Mat1 = np.zeros((totalData, class1))\n",
    "    Mat1 = np.zeros((totalData, class2))\n",
    "    for i in range(totalData):\n",
    "        c1 = 0\n",
    "        c2 = 0\n",
    "        for j in range(30):\n",
    "            if labels[j] == 1:\n",
    "                \n",
    "                Mat1[i][c1] = data[i][j]\n",
    "                c1 += 1\n",
    "            else:\n",
    "                \n",
    "                Mat2[i][c2] = data[i][j]\n",
    "                c2 += 1\n",
    "                \n",
    "    C = np.ones((class1, class1))/class1\n",
    "    D = np.ones((class2, class2))/class2\n",
    "    N = Mat1.dot(np.identity(class1) - C).dot(Mat1.T) + Mat2.dot(np.identity(class2) - D).dot(Mat2.T)\n",
    "    N = N + (np.identity(totalData) * 0)\n",
    "    \n",
    "    #between class M\n",
    "    M1 = np.zeros((totalData, 1))\n",
    "    M2 = np.zeros((totalData, 1))\n",
    "    \n",
    "    for i in range(totalData):\n",
    "        sum1 = 0\n",
    "        sum2 = 0\n",
    "        for j in range(class1):\n",
    "            sum1 += K1[i][j]\n",
    "        for j in range(class2):\n",
    "            sum2 += K2[i][j]\n",
    "        M1[i] = float(sum1)/class1\n",
    "        M2[i] = float(sum2)/class2\n",
    "    res = np.linalg.inv(N).dot(M2 - M1)\n",
    "    return res, kernel"
   ]
  },
  {
   "cell_type": "code",
   "execution_count": 18,
   "metadata": {},
   "outputs": [
    {
     "name": "stdout",
     "output_type": "stream",
     "text": [
      "11.335999999999999\n",
      "(569, 30)\n"
     ]
    }
   ],
   "source": [
    "X_train, X_test, y_train, y_test = train_test_split(df.iloc[:,:-1], df['diagnosis'], train_size=0.8, test_size=0.2,random_state=120)\n",
    "projection, kernel = kernellda(X_data,2100,z)\n",
    "newdata = kernel.dot(projection)\n",
    "\n"
   ]
  },
  {
   "cell_type": "code",
   "execution_count": 19,
   "metadata": {},
   "outputs": [
    {
     "data": {
      "image/png": "[encoded data removed]",
      "text/plain": [
       "<Figure size 432x288 with 1 Axes>"
      ]
     },
     "metadata": {
      "needs_background": "light"
     },
     "output_type": "display_data"
    }
   ],
   "source": [
    "labels=[]\n",
    "for i in range(totalData):\n",
    "        label = int(z[i])\n",
    "        labels.append(label)\n",
    "plt.scatter([newdata[i][0] for i in range(len(newdata)) if labels[i] == 1], [1 for i in range(len(newdata)) if labels[i] == 1], color='red', alpha=0.5)\n",
    "plt.scatter([newdata[i][0] for i in range(len(newdata)) if labels[i] == 0], [1 for i in range(len(newdata)) if labels[i] == 0], color='blue', alpha=0.5)\n",
    "plt.show()\n",
    "  "
   ]
  },
  {
   "cell_type": "code",
   "execution_count": 20,
   "metadata": {},
   "outputs": [
    {
     "name": "stdout",
     "output_type": "stream",
     "text": [
      "Accuracy -> 0.6153846153846154\n"
     ]
    }
   ],
   "source": [
    "X_train, X_test, y_train, y_test = train_test_split(newdata, Y, random_state=1)\n",
    "dt = DecisionTreeClassifier()\n",
    "dt.fit(X_train, y_train)\n",
    "y_pred = dt.predict(X_test)\n",
    "#confusion_matrix1=confusion_matrix(y_test, y_pred)\n",
    "#print(confusion_matrix1)\n",
    "\n",
    "print('Accuracy -> ' + str(accuracy_score(y_test, y_pred)))"
   ]
  },
  {
   "cell_type": "code",
   "execution_count": 21,
   "metadata": {},
   "outputs": [
    {
     "data": {
      "text/html": [
       "<div>\n",
       "<style scoped>\n",
       "    .dataframe tbody tr th:only-of-type {\n",
       "        vertical-align: middle;\n",
       "    }\n",
       "\n",
       "    .dataframe tbody tr th {\n",
       "        vertical-align: top;\n",
       "    }\n",
       "\n",
       "    .dataframe thead th {\n",
       "        text-align: right;\n",
       "    }\n",
       "</style>\n",
       "<table border=\"1\" class=\"dataframe\">\n",
       "  <thead>\n",
       "    <tr style=\"text-align: right;\">\n",
       "      <th></th>\n",
       "      <th>LD1</th>\n",
       "      <th>class</th>\n",
       "    </tr>\n",
       "  </thead>\n",
       "  <tbody>\n",
       "    <tr>\n",
       "      <th>0</th>\n",
       "      <td>-0.049179</td>\n",
       "      <td>0</td>\n",
       "    </tr>\n",
       "    <tr>\n",
       "      <th>1</th>\n",
       "      <td>0.023098</td>\n",
       "      <td>0</td>\n",
       "    </tr>\n",
       "    <tr>\n",
       "      <th>2</th>\n",
       "      <td>-0.002012</td>\n",
       "      <td>0</td>\n",
       "    </tr>\n",
       "    <tr>\n",
       "      <th>3</th>\n",
       "      <td>-0.023440</td>\n",
       "      <td>0</td>\n",
       "    </tr>\n",
       "    <tr>\n",
       "      <th>4</th>\n",
       "      <td>-0.051169</td>\n",
       "      <td>0</td>\n",
       "    </tr>\n",
       "  </tbody>\n",
       "</table>\n",
       "</div>"
      ],
      "text/plain": [
       "        LD1  class\n",
       "0 -0.049179      0\n",
       "1  0.023098      0\n",
       "2 -0.002012      0\n",
       "3 -0.023440      0\n",
       "4 -0.051169      0"
      ]
     },
     "execution_count": 21,
     "metadata": {},
     "output_type": "execute_result"
    }
   ],
   "source": [
    "data_new=pd.DataFrame(newdata)\n",
    "data_new['class']=z\n",
    "data_new.columns=[\"LD1\",\"class\"]\n",
    "data_new.head()"
   ]
  },
  {
   "cell_type": "code",
   "execution_count": 22,
   "metadata": {},
   "outputs": [
    {
     "name": "stderr",
     "output_type": "stream",
     "text": [
      "<ipython-input-22-d965ae6bd44c>:4: DataConversionWarning: A column-vector y was passed when a 1d array was expected. Please change the shape of y to (n_samples,), for example using ravel().\n",
      "  clf.fit(X_train, y_train)\n"
     ]
    }
   ],
   "source": [
    "from sklearn.ensemble import RandomForestClassifier\n",
    "X_train, X_test, y_train, y_test = train_test_split(newdata, Y, random_state=1)\n",
    "clf = RandomForestClassifier(max_depth = 2, random_state = 0)\n",
    "clf.fit(X_train, y_train)\n",
    "\n",
    "# Predicting the Test set results\n",
    "y_pred = clf.predict(X_test)"
   ]
  },
  {
   "cell_type": "code",
   "execution_count": 23,
   "metadata": {},
   "outputs": [
    {
     "name": "stdout",
     "output_type": "stream",
     "text": [
      "[[38 17]\n",
      " [33 55]]\n",
      "Accuracy -> 0.6503496503496503\n"
     ]
    }
   ],
   "source": [
    "from sklearn.metrics import confusion_matrix\n",
    "from sklearn.metrics import accuracy_score\n",
    "\n",
    "cm = confusion_matrix(y_test, y_pred)\n",
    "print(cm)\n",
    "print('Accuracy -> '+ str(accuracy_score(y_test, y_pred)))"
   ]
  },
  {
   "cell_type": "code",
   "execution_count": 24,
   "metadata": {},
   "outputs": [
    {
     "name": "stdout",
     "output_type": "stream",
     "text": [
      "11.335999999999999\n",
      "(569, 30)\n"
     ]
    },
    {
     "data": {
      "image/png": "[encoded data removed]",
      "text/plain": [
       "<Figure size 432x288 with 1 Axes>"
      ]
     },
     "metadata": {
      "needs_background": "light"
     },
     "output_type": "display_data"
    }
   ],
   "source": [
    "X_train, X_test, y_train, y_test = train_test_split(df.iloc[:,:-1], df['diagnosis'], train_size=0.8, test_size=0.2,random_state=120)\n",
    "projection, kernel = kernellda(X_data,100,z)\n",
    "newdata = kernel.dot(projection)\n",
    "\n",
    "labels=[]\n",
    "for i in range(totalData):\n",
    "        label = int(z[i])\n",
    "        labels.append(label)\n",
    "plt.scatter([newdata[i][0] for i in range(len(newdata)) if labels[i] == 1], [1 for i in range(len(newdata)) if labels[i] == 1], color='red', alpha=0.5)\n",
    "plt.scatter([newdata[i][0] for i in range(len(newdata)) if labels[i] == 0], [1 for i in range(len(newdata)) if labels[i] == 0], color='blue', alpha=0.5)\n",
    "plt.show()"
   ]
  },
  {
   "cell_type": "code",
   "execution_count": 25,
   "metadata": {},
   "outputs": [
    {
     "name": "stdout",
     "output_type": "stream",
     "text": [
      "Accuracy -> 0.6153846153846154\n"
     ]
    }
   ],
   "source": [
    "X_train, X_test, y_train, y_test = train_test_split(newdata, Y, random_state=1)\n",
    "dt = DecisionTreeClassifier()\n",
    "dt.fit(X_train, y_train)\n",
    "y_pred = dt.predict(X_test)\n",
    "#confusion_matrix1=confusion_matrix(y_test, y_pred)\n",
    "#print(confusion_matrix1)\n",
    "\n",
    "print('Accuracy -> ' + str(accuracy_score(y_test, y_pred)))"
   ]
  },
  {
   "cell_type": "code",
   "execution_count": 26,
   "metadata": {},
   "outputs": [
    {
     "data": {
      "text/html": [
       "<div>\n",
       "<style scoped>\n",
       "    .dataframe tbody tr th:only-of-type {\n",
       "        vertical-align: middle;\n",
       "    }\n",
       "\n",
       "    .dataframe tbody tr th {\n",
       "        vertical-align: top;\n",
       "    }\n",
       "\n",
       "    .dataframe thead th {\n",
       "        text-align: right;\n",
       "    }\n",
       "</style>\n",
       "<table border=\"1\" class=\"dataframe\">\n",
       "  <thead>\n",
       "    <tr style=\"text-align: right;\">\n",
       "      <th></th>\n",
       "      <th>LD1</th>\n",
       "      <th>class</th>\n",
       "    </tr>\n",
       "  </thead>\n",
       "  <tbody>\n",
       "    <tr>\n",
       "      <th>0</th>\n",
       "      <td>-0.049179</td>\n",
       "      <td>0</td>\n",
       "    </tr>\n",
       "    <tr>\n",
       "      <th>1</th>\n",
       "      <td>0.023098</td>\n",
       "      <td>0</td>\n",
       "    </tr>\n",
       "    <tr>\n",
       "      <th>2</th>\n",
       "      <td>-0.002012</td>\n",
       "      <td>0</td>\n",
       "    </tr>\n",
       "    <tr>\n",
       "      <th>3</th>\n",
       "      <td>-0.023440</td>\n",
       "      <td>0</td>\n",
       "    </tr>\n",
       "    <tr>\n",
       "      <th>4</th>\n",
       "      <td>-0.051169</td>\n",
       "      <td>0</td>\n",
       "    </tr>\n",
       "  </tbody>\n",
       "</table>\n",
       "</div>"
      ],
      "text/plain": [
       "        LD1  class\n",
       "0 -0.049179      0\n",
       "1  0.023098      0\n",
       "2 -0.002012      0\n",
       "3 -0.023440      0\n",
       "4 -0.051169      0"
      ]
     },
     "execution_count": 26,
     "metadata": {},
     "output_type": "execute_result"
    }
   ],
   "source": [
    "data_new=pd.DataFrame(newdata)\n",
    "data_new['class']=z\n",
    "data_new.columns=[\"LD1\",\"class\"]\n",
    "data_new.head()"
   ]
  },
  {
   "cell_type": "code",
   "execution_count": 27,
   "metadata": {},
   "outputs": [
    {
     "name": "stdout",
     "output_type": "stream",
     "text": [
      "[[38 17]\n",
      " [33 55]]\n",
      "Accuracy -> 0.6503496503496503\n"
     ]
    },
    {
     "name": "stderr",
     "output_type": "stream",
     "text": [
      "<ipython-input-27-8f6a259d3fe6>:4: DataConversionWarning: A column-vector y was passed when a 1d array was expected. Please change the shape of y to (n_samples,), for example using ravel().\n",
      "  clf.fit(X_train, y_train)\n"
     ]
    }
   ],
   "source": [
    "from sklearn.ensemble import RandomForestClassifier\n",
    "X_train, X_test, y_train, y_test = train_test_split(newdata, Y, random_state=1)\n",
    "clf = RandomForestClassifier(max_depth = 2, random_state = 0)\n",
    "clf.fit(X_train, y_train)\n",
    "\n",
    "# Predicting the Test set results\n",
    "y_pred = clf.predict(X_test)\n",
    "from sklearn.metrics import confusion_matrix\n",
    "from sklearn.metrics import accuracy_score\n",
    "\n",
    "cm = confusion_matrix(y_test, y_pred)\n",
    "print(cm)\n",
    "print('Accuracy -> '+ str(accuracy_score(y_test, y_pred)))"
   ]
  }
 ],
 "metadata": {
  "kernelspec": {
   "display_name": "Python 3",
   "language": "python",
   "name": "python3"
  },
  "language_info": {
   "codemirror_mode": {
    "name": "ipython",
    "version": 3
   },
   "file_extension": ".py",
   "mimetype": "text/x-python",
   "name": "python",
   "nbconvert_exporter": "python",
   "pygments_lexer": "ipython3",
   "version": "3.8.3"
  }
 },
 "nbformat": 4,
 "nbformat_minor": 4
}
