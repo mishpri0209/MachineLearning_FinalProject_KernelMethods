{
 "cells": [
  {
   "cell_type": "code",
   "execution_count": 1,
   "metadata": {},
   "outputs": [],
   "source": [
    "import numpy as np\n",
    "import pandas as pd\n",
    "from matplotlib import pyplot as plt\n",
    "import seaborn as sns; sns.set()\n",
    "from random import sample\n",
    "from scipy.stats import multivariate_normal"
   ]
  },
  {
   "cell_type": "code",
   "execution_count": 2,
   "metadata": {},
   "outputs": [],
   "source": [
    "s1=1\n",
    "s2=3\n",
    "mu1 = [1, 5]\n",
    "cov1 = s1*np.identity(2)\n",
    "mu2 = [7, 0.3]\n",
    "cov2 = s2*np.identity(2)\n",
    "tamaño=15\n",
    "X1 = multivariate_normal.rvs(mu1, cov1, size=tamaño)\n",
    "X2 = multivariate_normal.rvs(mu2, cov2, size=tamaño)\n",
    "X=np.vstack([X2,X1])\n",
    "n=tamaño*2\n",
    "X=np.vstack([X1,X2])"
   ]
  },
  {
   "cell_type": "code",
   "execution_count": 10,
   "metadata": {},
   "outputs": [
    {
     "data": {
      "text/plain": [
       "<function matplotlib.pyplot.show(*args, **kw)>"
      ]
     },
     "execution_count": 10,
     "metadata": {},
     "output_type": "execute_result"
    },
    {
     "data": {
      "image/png": "[encoded data removed]",
      "text/plain": [
       "<Figure size 432x288 with 1 Axes>"
      ]
     },
     "metadata": {},
     "output_type": "display_data"
    }
   ],
   "source": [
    "n=np.shape(X)[0]\n",
    "plt.scatter(X2[:,0],X2[:,1],c=\"r\")\n",
    "plt.scatter(X1[:,0],X1[:,1],c=\"b\")\n",
    "plt.show"
   ]
  },
  {
   "cell_type": "code",
   "execution_count": null,
   "metadata": {},
   "outputs": [],
   "source": []
  },
  {
   "cell_type": "code",
   "execution_count": 11,
   "metadata": {},
   "outputs": [],
   "source": [
    "def kernel(X):\n",
    "    n=np.shape(X)[0]\n",
    "    K=np.zeros((n,n))\n",
    "    for i in range(n):\n",
    "        for j in range(n):\n",
    "            K[i,j]=np.exp((-(pow(np.linalg.norm(X[i]-X[j]),2)))/(2*pow(np.std(X),2)))\n",
    "    return K\n",
    "\n",
    "def centroides(X,k,iteracion,distancias=0):\n",
    "    n=np.shape(X)[0]\n",
    "    if iteracion == 1:\n",
    "        return X[sample([x for x in range(n)],k)]\n",
    "    else:\n",
    "        centroides=np.zeros((k,2))\n",
    "        for j in range(k):\n",
    "            centroides[j]=np.array(asigna_cluster(X,dist,iteracion,k)[asigna_cluster(X,dist,iteracion,k)['Cluster'] == j][[0,1]].sum())/(asigna_cluster(X,dist,iteracion,k)[asigna_cluster(X,dist,iteracion,k)['Cluster'] == j][[0]]).shape[0]\n",
    "        return centroides\n",
    "    \n",
    "def Distancias(X,centroides,k,iteracion):\n",
    "    n=np.shape(X)[0]\n",
    "    distancias=np.zeros((n,k))\n",
    "    if(iteracion==1):\n",
    "        for j in range(k):\n",
    "            for i in range(n):\n",
    "                distancias[i,j]=2*(1-np.exp((-pow(np.linalg.norm(X[i]-centroides[j]),2))/(2*pow(np.std(X),2))))  \n",
    "        return distancias\n",
    "    else:\n",
    "        for j in range(k):\n",
    "            for i in range(n):\n",
    "                indices=asigna_cluster(X,dist,1,2).index[asigna_cluster(X,dist,1,2)['Cluster'] == j]\n",
    "                K=kernel(X)\n",
    "                aux=np.array(indices).astype(int)\n",
    "                a=0\n",
    "                for l in aux:\n",
    "                    a=a+sum(K[aux,l])\n",
    "                distancias[i,j]=K[i,j]-2*sum(K[i,aux])/7+a/7**2\n",
    "        return distancias\n",
    "    \n",
    "def asigna_cluster(X,distancias,iteracion,k):\n",
    "    X=pd.DataFrame(X)\n",
    "    distancias=pd.DataFrame(distancias)\n",
    "    cluster=pd.DataFrame(distancias.idxmin(axis=1))\n",
    "    #print(cluster)\n",
    "    distancias.columns=['Distancia al centroide {}'.format(i) for i in range(k)]\n",
    "    cluster.columns=['Cluster {}'.format(iteracion)]\n",
    "    cluster.columns=['Cluster']\n",
    "    distancias_asignacion=pd.concat([X,distancias,cluster],axis=1)\n",
    "    return distancias_asignacion"
   ]
  },
  {
   "cell_type": "code",
   "execution_count": 12,
   "metadata": {},
   "outputs": [],
   "source": [
    "def kernel_kmeans(X,k,iter_max):\n",
    "    dist=0\n",
    "    n=np.shape(X)[0]\n",
    "    for iteracion in range(iter_max):\n",
    "        iteracion = iteracion + 1\n",
    "        cent=centroides(X,k,iteracion,dist)\n",
    "        clusters=asigna_cluster(X,Distancias(X,cent,k,iteracion),iteracion,k)\n",
    "        labels=clusters[\"Cluster\"].to_numpy()\n",
    "        dist = Distancias(X,cent,k,iteracion)\n",
    "        plt.scatter(np.array(X[:,0]).reshape(n),np.array(X[:,1]).reshape(n),c=labels, cmap='viridis')\n",
    "        plt.scatter(np.array(cent[:,0]).reshape(k),np.array(cent[:,1]).reshape(k),c=\"#da6248\",marker=\"d\",s=150)\n",
    "        plt.title(\"Kernel K-means Iteración\"+str(iteracion))\n",
    "        plt.show()\n",
    "    return cent"
   ]
  },
  {
   "cell_type": "code",
   "execution_count": 13,
   "metadata": {},
   "outputs": [
    {
     "data": {
      "image/png": "[encoded data removed]",
      "text/plain": [
       "<Figure size 432x288 with 1 Axes>"
      ]
     },
     "metadata": {},
     "output_type": "display_data"
    },
    {
     "ename": "NameError",
     "evalue": "name 'dist' is not defined",
     "output_type": "error",
     "traceback": [
      "\u001b[1;31m---------------------------------------------------------------------------\u001b[0m",
      "\u001b[1;31mNameError\u001b[0m                                 Traceback (most recent call last)",
      "\u001b[1;32m<ipython-input-13-75a49683539c>\u001b[0m in \u001b[0;36m<module>\u001b[1;34m\u001b[0m\n\u001b[1;32m----> 1\u001b[1;33m \u001b[0mkernel_kmeans\u001b[0m\u001b[1;33m(\u001b[0m\u001b[0mX\u001b[0m\u001b[1;33m,\u001b[0m\u001b[1;36m2\u001b[0m\u001b[1;33m,\u001b[0m\u001b[1;36m5\u001b[0m\u001b[1;33m)\u001b[0m\u001b[1;33m\u001b[0m\u001b[1;33m\u001b[0m\u001b[0m\n\u001b[0m",
      "\u001b[1;32m<ipython-input-12-d21f4e2760f0>\u001b[0m in \u001b[0;36mkernel_kmeans\u001b[1;34m(X, k, iter_max)\u001b[0m\n\u001b[0;32m      5\u001b[0m         \u001b[0miteracion\u001b[0m \u001b[1;33m=\u001b[0m \u001b[0miteracion\u001b[0m \u001b[1;33m+\u001b[0m \u001b[1;36m1\u001b[0m\u001b[1;33m\u001b[0m\u001b[1;33m\u001b[0m\u001b[0m\n\u001b[0;32m      6\u001b[0m         \u001b[0mcent\u001b[0m\u001b[1;33m=\u001b[0m\u001b[0mcentroides\u001b[0m\u001b[1;33m(\u001b[0m\u001b[0mX\u001b[0m\u001b[1;33m,\u001b[0m\u001b[0mk\u001b[0m\u001b[1;33m,\u001b[0m\u001b[0miteracion\u001b[0m\u001b[1;33m,\u001b[0m\u001b[0mdist\u001b[0m\u001b[1;33m)\u001b[0m\u001b[1;33m\u001b[0m\u001b[1;33m\u001b[0m\u001b[0m\n\u001b[1;32m----> 7\u001b[1;33m         \u001b[0mclusters\u001b[0m\u001b[1;33m=\u001b[0m\u001b[0masigna_cluster\u001b[0m\u001b[1;33m(\u001b[0m\u001b[0mX\u001b[0m\u001b[1;33m,\u001b[0m\u001b[0mDistancias\u001b[0m\u001b[1;33m(\u001b[0m\u001b[0mX\u001b[0m\u001b[1;33m,\u001b[0m\u001b[0mcent\u001b[0m\u001b[1;33m,\u001b[0m\u001b[0mk\u001b[0m\u001b[1;33m,\u001b[0m\u001b[0miteracion\u001b[0m\u001b[1;33m)\u001b[0m\u001b[1;33m,\u001b[0m\u001b[0miteracion\u001b[0m\u001b[1;33m,\u001b[0m\u001b[0mk\u001b[0m\u001b[1;33m)\u001b[0m\u001b[1;33m\u001b[0m\u001b[1;33m\u001b[0m\u001b[0m\n\u001b[0m\u001b[0;32m      8\u001b[0m         \u001b[0mlabels\u001b[0m\u001b[1;33m=\u001b[0m\u001b[0mclusters\u001b[0m\u001b[1;33m[\u001b[0m\u001b[1;34m\"Cluster\"\u001b[0m\u001b[1;33m]\u001b[0m\u001b[1;33m.\u001b[0m\u001b[0mto_numpy\u001b[0m\u001b[1;33m(\u001b[0m\u001b[1;33m)\u001b[0m\u001b[1;33m\u001b[0m\u001b[1;33m\u001b[0m\u001b[0m\n\u001b[0;32m      9\u001b[0m         \u001b[0mdist\u001b[0m \u001b[1;33m=\u001b[0m \u001b[0mDistancias\u001b[0m\u001b[1;33m(\u001b[0m\u001b[0mX\u001b[0m\u001b[1;33m,\u001b[0m\u001b[0mcent\u001b[0m\u001b[1;33m,\u001b[0m\u001b[0mk\u001b[0m\u001b[1;33m,\u001b[0m\u001b[0miteracion\u001b[0m\u001b[1;33m)\u001b[0m\u001b[1;33m\u001b[0m\u001b[1;33m\u001b[0m\u001b[0m\n",
      "\u001b[1;32m<ipython-input-11-deb31445bda8>\u001b[0m in \u001b[0;36mDistancias\u001b[1;34m(X, centroides, k, iteracion)\u001b[0m\n\u001b[0;32m     28\u001b[0m         \u001b[1;32mfor\u001b[0m \u001b[0mj\u001b[0m \u001b[1;32min\u001b[0m \u001b[0mrange\u001b[0m\u001b[1;33m(\u001b[0m\u001b[0mk\u001b[0m\u001b[1;33m)\u001b[0m\u001b[1;33m:\u001b[0m\u001b[1;33m\u001b[0m\u001b[1;33m\u001b[0m\u001b[0m\n\u001b[0;32m     29\u001b[0m             \u001b[1;32mfor\u001b[0m \u001b[0mi\u001b[0m \u001b[1;32min\u001b[0m \u001b[0mrange\u001b[0m\u001b[1;33m(\u001b[0m\u001b[0mn\u001b[0m\u001b[1;33m)\u001b[0m\u001b[1;33m:\u001b[0m\u001b[1;33m\u001b[0m\u001b[1;33m\u001b[0m\u001b[0m\n\u001b[1;32m---> 30\u001b[1;33m                 \u001b[0mindices\u001b[0m\u001b[1;33m=\u001b[0m\u001b[0masigna_cluster\u001b[0m\u001b[1;33m(\u001b[0m\u001b[0mX\u001b[0m\u001b[1;33m,\u001b[0m\u001b[0mdist\u001b[0m\u001b[1;33m,\u001b[0m\u001b[1;36m1\u001b[0m\u001b[1;33m,\u001b[0m\u001b[1;36m2\u001b[0m\u001b[1;33m)\u001b[0m\u001b[1;33m.\u001b[0m\u001b[0mindex\u001b[0m\u001b[1;33m[\u001b[0m\u001b[0masigna_cluster\u001b[0m\u001b[1;33m(\u001b[0m\u001b[0mX\u001b[0m\u001b[1;33m,\u001b[0m\u001b[0mdist\u001b[0m\u001b[1;33m,\u001b[0m\u001b[1;36m1\u001b[0m\u001b[1;33m,\u001b[0m\u001b[1;36m2\u001b[0m\u001b[1;33m)\u001b[0m\u001b[1;33m[\u001b[0m\u001b[1;34m'Cluster'\u001b[0m\u001b[1;33m]\u001b[0m \u001b[1;33m==\u001b[0m \u001b[0mj\u001b[0m\u001b[1;33m]\u001b[0m\u001b[1;33m\u001b[0m\u001b[1;33m\u001b[0m\u001b[0m\n\u001b[0m\u001b[0;32m     31\u001b[0m                 \u001b[0mK\u001b[0m\u001b[1;33m=\u001b[0m\u001b[0mkernel\u001b[0m\u001b[1;33m(\u001b[0m\u001b[0mX\u001b[0m\u001b[1;33m)\u001b[0m\u001b[1;33m\u001b[0m\u001b[1;33m\u001b[0m\u001b[0m\n\u001b[0;32m     32\u001b[0m                 \u001b[0maux\u001b[0m\u001b[1;33m=\u001b[0m\u001b[0mnp\u001b[0m\u001b[1;33m.\u001b[0m\u001b[0marray\u001b[0m\u001b[1;33m(\u001b[0m\u001b[0mindices\u001b[0m\u001b[1;33m)\u001b[0m\u001b[1;33m.\u001b[0m\u001b[0mastype\u001b[0m\u001b[1;33m(\u001b[0m\u001b[0mint\u001b[0m\u001b[1;33m)\u001b[0m\u001b[1;33m\u001b[0m\u001b[1;33m\u001b[0m\u001b[0m\n",
      "\u001b[1;31mNameError\u001b[0m: name 'dist' is not defined"
     ]
    }
   ],
   "source": [
    "kernel_kmeans(X,2,5)"
   ]
  },
  {
   "cell_type": "code",
   "execution_count": 7,
   "metadata": {},
   "outputs": [],
   "source": [
    "def cluster_mmg(X,w,mu,sigma,num_iter,K,n):\n",
    "    #Responsabilidades\n",
    "    gamma=np.zeros((K,n))\n",
    "    #Inicializamos el loop de actualizacion\n",
    "    mu_new=mu\n",
    "    for j in range(num_iter):\n",
    "        X=np.vstack([X1,X2])\n",
    "        a=np.zeros((K,n))\n",
    "        b=[]\n",
    "        #Para calcular Gamma_i^k\n",
    "        for i in range(n):\n",
    "            for k in range(K):\n",
    "                a[k][i]=w[k]*multivariate_normal.pdf(X[i,:],\n",
    "                            mean=mu_new[k,:], cov=sigma[k,:,:],allow_singular=True)\n",
    "            b.append(sum(a[:,i]))\n",
    "        gamma=a/b\n",
    "\n",
    "        #Para actualizar mu\n",
    "        #mu_new=np.zeros((np.shape(mu)[0],np.shape(mu)[1]))\n",
    "        log_verosim=0\n",
    "        for k in range(K):\n",
    "            mu_new[:,k]=gamma[k]@X/sum(gamma[k,:])\n",
    "            log_verosim+=np.log(sum(gamma[k,:]))\n",
    "        mu_new=mu_new.T\n",
    "        #Para calcular Gamma_i^k\n",
    "        aux=0\n",
    "        sigma_new=[]\n",
    "        X=np.array([X1,X2])\n",
    "        for k in range(K):\n",
    "            for i in range(n):\n",
    "                aux+=gamma[k,i]*((X[k]-mu[k]).T@(X[k]-mu[k]))\n",
    "            sigma_new.append(aux/sum(gamma[k,:]))\n",
    "        print('Iteración', j + 1, ', estimador de maxima log-verosimilitud: ', log_verosim)\n",
    "   \n",
    "    labels=np.around(gamma,0)\n",
    "    return(labels)"
   ]
  },
  {
   "cell_type": "code",
   "execution_count": 8,
   "metadata": {},
   "outputs": [
    {
     "name": "stdout",
     "output_type": "stream",
     "text": [
      "Iteración 1 , estimador de maxima log-verosimilitud:  5.415327505969717\n",
      "Iteración 2 , estimador de maxima log-verosimilitud:  5.415208383359818\n",
      "Iteración 3 , estimador de maxima log-verosimilitud:  5.415171187068399\n",
      "Iteración 4 , estimador de maxima log-verosimilitud:  5.415160331678677\n",
      "Iteración 5 , estimador de maxima log-verosimilitud:  5.415157192719777\n"
     ]
    },
    {
     "data": {
      "text/plain": [
       "Text(0.5, 1.0, 'MMG-EM clustering, implementación')"
      ]
     },
     "execution_count": 8,
     "metadata": {},
     "output_type": "execute_result"
    },
    {
     "data": {
      "image/png": "[encoded data removed]",
      "text/plain": [
       "<Figure size 432x288 with 1 Axes>"
      ]
     },
     "metadata": {},
     "output_type": "display_data"
    }
   ],
   "source": [
    "w=np.array([0.2,0.8])\n",
    "mu=np.array([mu1,mu2])\n",
    "sigma=np.array([cov1,cov2])\n",
    "labels=cluster_mmg(X,w,mu,sigma,5,2,n)\n",
    "plt.scatter(X[:,0],X[:,1],c=labels[1], cmap='viridis')\n",
    "plt.title(\"MMG-EM clustering, implementación\")"
   ]
  },
  {
   "cell_type": "code",
   "execution_count": null,
   "metadata": {},
   "outputs": [],
   "source": []
  },
  {
   "cell_type": "code",
   "execution_count": null,
   "metadata": {},
   "outputs": [],
   "source": []
  },
  {
   "cell_type": "code",
   "execution_count": null,
   "metadata": {},
   "outputs": [],
   "source": []
  }
 ],
 "metadata": {
  "kernelspec": {
   "display_name": "Python 3",
   "language": "python",
   "name": "python3"
  },
  "language_info": {
   "codemirror_mode": {
    "name": "ipython",
    "version": 3
   },
   "file_extension": ".py",
   "mimetype": "text/x-python",
   "name": "python",
   "nbconvert_exporter": "python",
   "pygments_lexer": "ipython3",
   "version": "3.8.3"
  }
 },
 "nbformat": 4,
 "nbformat_minor": 2
}
