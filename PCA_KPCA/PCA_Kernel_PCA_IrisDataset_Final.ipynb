{
 "cells": [
  {
   "cell_type": "code",
   "execution_count": 44,
   "metadata": {},
   "outputs": [],
   "source": [
    "import matplotlib.pyplot as plt\n",
    "import numpy as np\n",
    "from scipy import linalg\n",
    "from tqdm import tqdm\n",
    "import numpy\n",
    "from sklearn.datasets import fetch_20newsgroups\n",
    "from sklearn.feature_extraction.text import TfidfVectorizer\n",
    "import matplotlib.pyplot as plt\n",
    "import pandas as pd\n",
    "from sklearn.model_selection import train_test_split\n",
    "from sklearn.neighbors import KNeighborsClassifier\n",
    "\n",
    "\n",
    "# load dataset into Pandas DataFrame\n",
    "df = pd.read_csv(\"iris.csv\")\n"
   ]
  },
  {
   "cell_type": "code",
   "execution_count": 45,
   "metadata": {},
   "outputs": [],
   "source": [
    "from sklearn.preprocessing import StandardScaler\n",
    "features = ['sepal length', 'sepal width', 'petal length', 'petal width']\n",
    "# Separating out the features\n",
    "X = df.loc[:, features].values\n",
    "x = df.loc[:, features].values\n",
    "# Separating out the target\n",
    "Y = df.loc[:,['target']].values\n",
    "# Standardizing the features\n",
    "X = StandardScaler().fit_transform(X)\n",
    "\n",
    "labels_names = ['I.setosa', 'I.versicolor', 'I.virginica']"
   ]
  },
  {
   "cell_type": "code",
   "execution_count": 46,
   "metadata": {},
   "outputs": [
    {
     "name": "stdout",
     "output_type": "stream",
     "text": [
      "(150, 4)\n"
     ]
    }
   ],
   "source": [
    "print(X.shape)"
   ]
  },
  {
   "cell_type": "code",
   "execution_count": 47,
   "metadata": {},
   "outputs": [],
   "source": [
    "class KPCA:\n",
    "    def __init__(self, kernel):\n",
    "        self.kernel = kernel\n",
    "        self.X = None\n",
    "        self.A = None\n",
    "        self.MV= None\n",
    "        \n",
    "    def getNormalise(self, data):\n",
    "        len= data.shape[0]\n",
    "        data_1 = numpy.ones((len, len)) / len\n",
    "        GramMatrix= self.kernel.GramMatrix(data)\n",
    "        self.MV = numpy.mean(GramMatrix, axis=1) - numpy.mean(GramMatrix)\n",
    "        return numpy.dot(numpy.dot(numpy.eye(len) - data_1, GramMatrix), numpy.eye(len) - data_1)\n",
    "    \n",
    "    def fit(self, data):\n",
    "        print(\"Finding !!! \")\n",
    "        length = data.shape[0]\n",
    "        self.X = data\n",
    "        GM = self.getNormalise(data)       \n",
    "        eig_values, eig_vectors = linalg.eigh(GM)       \n",
    "        i = range(length)[::-1]\n",
    "        eig_values = eig_values[i]\n",
    "        eig_vectors = eig_vectors[:, i]        \n",
    "        i = eig_values > 0\n",
    "        eig_values = eig_values[i]\n",
    "        eig_vectors = eig_vectors[:, i]\n",
    "        self.A = eig_vectors\n",
    "        for a, b in enumerate(eig_values):\n",
    "            self.A[:, a] /= numpy.sqrt(b)\n",
    "            \n",
    "    def predict(self, X, cluster=None):\n",
    "        assert cluster is None or (cluster > 0 and cluster <= self.A.shape[1])\n",
    "        if cluster is None:\n",
    "            cluster = self.A.shape[1]\n",
    "\n",
    "        GM = self.kernel.GramMatrix(X, self.X)\n",
    "        K = GM - numpy.mean(GM, axis=1)[:, numpy.newaxis] - self.MV\n",
    "        return numpy.dot(GM, self.A[:, :cluster])\n",
    "            \n",
    "        "
   ]
  },
  {
   "cell_type": "code",
   "execution_count": 48,
   "metadata": {},
   "outputs": [],
   "source": [
    "class Kernel:\n",
    "    def __init__(self):\n",
    "        self.name = None\n",
    "\n",
    "    def calc(self, x, y):\n",
    "        raise NotImplementedError(\"Not Done\")\n",
    "\n",
    "    def GramMatrix(self, X, Y=None):\n",
    "        if Y is None:\n",
    "            Y = X\n",
    "        n = X.shape[0]\n",
    "        m = Y.shape[0]\n",
    "        K = numpy.zeros((n, m))\n",
    "\n",
    "        for i in tqdm(range(n)):\n",
    "            for j in range(m):\n",
    "                K[i, j] = self.calc(X[i, :], Y[j, :])\n",
    "        return K"
   ]
  },
  {
   "cell_type": "code",
   "execution_count": 49,
   "metadata": {},
   "outputs": [],
   "source": [
    "class PolynomialKernel():\n",
    "    def __init__(self, degree):\n",
    "        self.degree = degree\n",
    "        self.name = 'polynomial_%d' % degree\n",
    "        \n",
    "    def calc(self, x, y):\n",
    "        return (1 + numpy.dot(x, y)) ** self.degree\n",
    "    \n",
    "    def GramMatrix(self, X, Y=None):\n",
    "        if Y is None:\n",
    "            Y = X\n",
    "        return numpy.dot(X, Y.T) **self.degree\n",
    "\n",
    "class LinearKernel():\n",
    "    def __init__(self):\n",
    "        self.name = 'linear'\n",
    "\n",
    "    def calc(self, x, y):\n",
    "        return numpy.dot(x, y)\n",
    "\n",
    "    def GramMatrix(self, X, Y=None):\n",
    "        if Y is None:\n",
    "            Y = X\n",
    "        return numpy.dot(X, Y.T)"
   ]
  },
  {
   "cell_type": "code",
   "execution_count": 50,
   "metadata": {},
   "outputs": [],
   "source": [
    "class GaussianKernel():\n",
    "    def __init__(self, sigma):\n",
    "        self.sigma = sigma\n",
    "        self.name = 'gaussian_%.2f' % sigma\n",
    "\n",
    "    def calc(self, x, y):\n",
    "            val=numpy.exp(-numpy.linalg.norm(x - y) ** 2 / (2 * self.sigma ** 2))\n",
    "            print(\"Value is\"+val)\n",
    "            return val\n",
    "\n",
    "    def GramMatrix(self, X, Y=None):\n",
    "        if Y is None:\n",
    "            Y = X\n",
    "        n = X.shape[0]\n",
    "        m = Y.shape[0]\n",
    "        K = numpy.zeros((n, m))\n",
    "\n",
    "        for i in tqdm(range(m)):\n",
    "            K[:, i] = numpy.linalg.norm(X - Y[i, :], axis=1) ** 2\n",
    "        K /= 2 * self.sigma ** 2\n",
    "        return numpy.exp(-K)"
   ]
  },
  {
   "cell_type": "code",
   "execution_count": 51,
   "metadata": {},
   "outputs": [],
   "source": [
    "class LaplacianKernel():\n",
    "    def __init__(self, sigma):\n",
    "        self.sigma = sigma\n",
    "        self.name = 'gaussian_%.2f' % sigma\n",
    "\n",
    "    def calc(self, x, y):\n",
    "            val=numpy.exp(-numpy.linalg.norm(x - y) *self.sigma)\n",
    "            print(\"Value is\"+val)\n",
    "            return val\n",
    "\n",
    "    def GramMatrix(self, X, Y=None):\n",
    "        if Y is None:\n",
    "            Y = X\n",
    "        n = X.shape[0]\n",
    "        m = Y.shape[0]\n",
    "        K = numpy.zeros((n, m))\n",
    "\n",
    "        for i in tqdm(range(m)):\n",
    "            K[:, i] = numpy.linalg.norm(X - Y[i, :], axis=1)* self.sigma\n",
    "       \n",
    "        return numpy.exp(-K)"
   ]
  },
  {
   "cell_type": "code",
   "execution_count": 52,
   "metadata": {},
   "outputs": [],
   "source": [
    "from sklearn.decomposition import PCA\n",
    "scikit_pca = PCA(n_components=4)\n",
    "X_spca = scikit_pca.fit_transform(X)\n",
    "Components = scikit_pca.fit_transform(X)\n",
    "\n"
   ]
  },
  {
   "cell_type": "code",
   "execution_count": 53,
   "metadata": {},
   "outputs": [
    {
     "data": {
      "image/png": "[encoded data removed]",
      "text/plain": [
       "<Figure size 432x288 with 1 Axes>"
      ]
     },
     "metadata": {
      "needs_background": "light"
     },
     "output_type": "display_data"
    }
   ],
   "source": [
    "explained_variance = np.var(Components, axis=0)\n",
    "ev = explained_variance / np.sum(explained_variance)\n",
    "plt.bar([1,2,3,4],list(ev*100),label='Principal Components Variance ',color='cyan')\n",
    "plt.legend()\n",
    "plt.xlabel('Principal Components ')\n",
    "#----------------------\n",
    "n=list(ev*100)\n",
    "pc=[]\n",
    "for i in range(len(n)):\n",
    "    n[i]=round(n[i],4)\n",
    "    pc.append('PC-'+str(i+1))\n",
    "\n",
    "#----------------------\n",
    "plt.xticks([1,2,3,4],pc, fontsize=10)\n",
    "plt.ylabel('Variance Ratio')\n",
    "plt.title('PCA-Variance Ratio of IRIS Dataset:')\n",
    "plt.show()"
   ]
  },
  {
   "cell_type": "code",
   "execution_count": 54,
   "metadata": {
    "scrolled": true
   },
   "outputs": [
    {
     "name": "stdout",
     "output_type": "stream",
     "text": [
      "(150, 2)\n"
     ]
    }
   ],
   "source": [
    "scikit_pca = PCA(n_components=2)\n",
    "X_spca = scikit_pca.fit_transform(X)\n",
    "Components = scikit_pca.fit_transform(X)\n",
    "\n",
    "principalDf = pd.DataFrame(data = Components\n",
    "                 , columns = ['PC-1', 'PC-2'])\n",
    "\n",
    "print(X_spca.shape)"
   ]
  },
  {
   "cell_type": "code",
   "execution_count": 55,
   "metadata": {},
   "outputs": [
    {
     "data": {
      "image/png": "[encoded data removed]",
      "text/plain": [
       "<Figure size 576x576 with 1 Axes>"
      ]
     },
     "metadata": {
      "needs_background": "light"
     },
     "output_type": "display_data"
    }
   ],
   "source": [
    " # Adding lables\n",
    "finalDf = pd.concat([principalDf, df[['target']]], axis = 1)\n",
    "# Plotting pc1 & pc2\n",
    "fig = plt.figure(figsize = (8,8))\n",
    "ax = fig.add_subplot(1,1,1) \n",
    "ax.set_xlabel('PC-1', fontsize = 15)\n",
    "ax.set_ylabel('PC-2', fontsize = 15)\n",
    "ax.set_title('PCA on IRIS Dataset:', fontsize = 20)\n",
    "targets = ['Iris-setosa', 'Iris-versicolor', 'Iris-virginica']\n",
    "colors = ['orange', 'g', 'b']\n",
    "for target, color in zip(targets,colors):\n",
    "    indicesToKeep = finalDf['target'] == target\n",
    "    ax.scatter(finalDf.loc[indicesToKeep, 'PC-1'], finalDf.loc[indicesToKeep, 'PC-2'], c = color, s = 30)\n",
    "ax.legend(targets)\n",
    "ax.grid()\n",
    "plt.show()"
   ]
  },
  {
   "cell_type": "code",
   "execution_count": 56,
   "metadata": {},
   "outputs": [
    {
     "name": "stdout",
     "output_type": "stream",
     "text": [
      "\n",
      "Clasification report:\n",
      "                  precision    recall  f1-score   support\n",
      "\n",
      "    Iris-setosa       1.00      1.00      1.00        17\n",
      "Iris-versicolor       0.74      1.00      0.85        20\n",
      " Iris-virginica       1.00      0.70      0.82        23\n",
      "\n",
      "       accuracy                           0.88        60\n",
      "      macro avg       0.91      0.90      0.89        60\n",
      "   weighted avg       0.91      0.88      0.88        60\n",
      "\n",
      "\n",
      "Confussion matrix:\n",
      " [[17  0  0]\n",
      " [ 0 20  0]\n",
      " [ 0  7 16]]\n"
     ]
    },
    {
     "name": "stderr",
     "output_type": "stream",
     "text": [
      "C:\\ProgramData\\Anaconda3\\lib\\site-packages\\sklearn\\utils\\validation.py:73: DataConversionWarning: A column-vector y was passed when a 1d array was expected. Please change the shape of y to (n_samples, ), for example using ravel().\n",
      "  return f(**kwargs)\n"
     ]
    }
   ],
   "source": [
    "# splitting testing ab=nd training data\n",
    "from sklearn.svm import SVC\n",
    "x_train_pca, x_test_pca, y_train_pca, y_test_pca = train_test_split(X_spca, Y, test_size=0.4, random_state=33)\n",
    "\n",
    "# training the SVM classifier\n",
    "clf=SVC()\n",
    "clf.fit(x_train_pca, y_train_pca)\n",
    "\n",
    "# predicting the results\n",
    "pred_pca_SVC = clf.predict(x_test_pca)\n",
    "\n",
    "# generate evaluation report\n",
    "from sklearn.metrics import classification_report\n",
    "from sklearn.metrics import confusion_matrix\n",
    "print('\\nClasification report:\\n', classification_report(y_test_pca, pred_pca_SVC))\n",
    "print ('\\nConfussion matrix:\\n',confusion_matrix(y_test_pca, pred_pca_SVC))"
   ]
  },
  {
   "cell_type": "code",
   "execution_count": 57,
   "metadata": {},
   "outputs": [
    {
     "name": "stdout",
     "output_type": "stream",
     "text": [
      "Finding !!! \n",
      "(150, 2)\n"
     ]
    }
   ],
   "source": [
    "#Applying Kernel PCA \n",
    "#Linear Kernel :\n",
    "#umber of components =2 \n",
    "kpca = KPCA(LinearKernel())\n",
    "X_kpca=kpca.fit(X)\n",
    "X_kpca1 = kpca.predict(X,2)\n",
    "Components = kpca.predict(X,2)\n",
    "principalDf = pd.DataFrame(data = Components\n",
    "                 , columns = ['PC-1', 'PC-2'])\n",
    "print(X_kpca1.shape)\n"
   ]
  },
  {
   "cell_type": "code",
   "execution_count": 58,
   "metadata": {},
   "outputs": [
    {
     "data": {
      "image/png": "[encoded data removed]",
      "text/plain": [
       "<Figure size 576x576 with 1 Axes>"
      ]
     },
     "metadata": {
      "needs_background": "light"
     },
     "output_type": "display_data"
    }
   ],
   "source": [
    " # Adding lables\n",
    "finalDf = pd.concat([principalDf, df[['target']]], axis = 1)\n",
    "# Plotting pc1 & pc2\n",
    "fig = plt.figure(figsize = (8,8))\n",
    "ax = fig.add_subplot(1,1,1) \n",
    "ax.set_xlabel('PC-1', fontsize = 15)\n",
    "ax.set_ylabel('PC-2', fontsize = 15)\n",
    "ax.set_title('K-PCA on IRIS Dataset using Linear Kernel:', fontsize = 20)\n",
    "targets = ['Iris-setosa', 'Iris-versicolor', 'Iris-virginica']\n",
    "colors = ['orange', 'g', 'b']\n",
    "for target, color in zip(targets,colors):\n",
    "    indicesToKeep = finalDf['target'] == target\n",
    "    ax.scatter(finalDf.loc[indicesToKeep, 'PC-1'], finalDf.loc[indicesToKeep, 'PC-2'], c = color, s = 30)\n",
    "ax.legend(targets)\n",
    "ax.grid()\n",
    "plt.show()"
   ]
  },
  {
   "cell_type": "code",
   "execution_count": 59,
   "metadata": {},
   "outputs": [
    {
     "name": "stderr",
     "output_type": "stream",
     "text": [
      "C:\\ProgramData\\Anaconda3\\lib\\site-packages\\sklearn\\utils\\validation.py:73: DataConversionWarning: A column-vector y was passed when a 1d array was expected. Please change the shape of y to (n_samples, ), for example using ravel().\n",
      "  return f(**kwargs)\n"
     ]
    }
   ],
   "source": [
    "# splitting testing ab=nd training data\n",
    "from sklearn.svm import SVC\n",
    "x_train, x_test, y_train, y_test = train_test_split(X_kpca1, Y, test_size=0.4, random_state=33)\n",
    "\n",
    "# training the SVM classifier\n",
    "clf=SVC()\n",
    "clf.fit(x_train, y_train)\n",
    "\n",
    "# predicting the results\n",
    "pred = clf.predict(x_test)\n",
    "\n"
   ]
  },
  {
   "cell_type": "code",
   "execution_count": 60,
   "metadata": {},
   "outputs": [
    {
     "name": "stdout",
     "output_type": "stream",
     "text": [
      "\n",
      "Clasification report:\n",
      "                  precision    recall  f1-score   support\n",
      "\n",
      "    Iris-setosa       1.00      1.00      1.00        17\n",
      "Iris-versicolor       0.74      1.00      0.85        20\n",
      " Iris-virginica       1.00      0.70      0.82        23\n",
      "\n",
      "       accuracy                           0.88        60\n",
      "      macro avg       0.91      0.90      0.89        60\n",
      "   weighted avg       0.91      0.88      0.88        60\n",
      "\n",
      "\n",
      "Confussion matrix:\n",
      " [[17  0  0]\n",
      " [ 0 20  0]\n",
      " [ 0  7 16]]\n"
     ]
    }
   ],
   "source": [
    "from sklearn.metrics import classification_report\n",
    "from sklearn.metrics import confusion_matrix\n",
    "print('\\nClasification report:\\n', classification_report(y_test, pred))\n",
    "print ('\\nConfussion matrix:\\n',confusion_matrix(y_test, pred))"
   ]
  },
  {
   "cell_type": "code",
   "execution_count": 61,
   "metadata": {},
   "outputs": [
    {
     "name": "stderr",
     "output_type": "stream",
     "text": [
      "100%|█████████████████████████████████████████████████████████████████████████████| 150/150 [00:00<00:00, 37936.90it/s]\n",
      "100%|█████████████████████████████████████████████████████████████████████████████| 150/150 [00:00<00:00, 16674.06it/s]\n",
      "100%|█████████████████████████████████████████████████████████████████████████████| 150/150 [00:00<00:00, 24999.83it/s]"
     ]
    },
    {
     "name": "stdout",
     "output_type": "stream",
     "text": [
      "Finding !!! \n"
     ]
    },
    {
     "name": "stderr",
     "output_type": "stream",
     "text": [
      "\n"
     ]
    },
    {
     "data": {
      "image/png": "[encoded data removed]",
      "text/plain": [
       "<Figure size 576x576 with 1 Axes>"
      ]
     },
     "metadata": {
      "needs_background": "light"
     },
     "output_type": "display_data"
    }
   ],
   "source": [
    "#Applying Kernel PCA \n",
    "#Guassian Kernel :\n",
    "#umber of components =2 and Gamma=1\n",
    "kpca = KPCA(GaussianKernel(0.2))\n",
    "X_kpca=kpca.fit(X)\n",
    "X_kpca1 = kpca.predict(X,2)\n",
    "Components = kpca.predict(X,2)\n",
    "principalDf = pd.DataFrame(data = Components\n",
    "                 , columns = ['PC-1', 'PC-2'])\n",
    "\n",
    "\n",
    "\n",
    " # Adding lables\n",
    "finalDf = pd.concat([principalDf, df[['target']]], axis = 1)\n",
    "# Plotting pc1 & pc2\n",
    "fig = plt.figure(figsize = (8,8))\n",
    "ax = fig.add_subplot(1,1,1) \n",
    "ax.set_xlabel('PC-1', fontsize = 15)\n",
    "ax.set_ylabel('PC-2', fontsize = 15)\n",
    "ax.set_title('K-PCA on IRIS Dataset Using gaussian Kernel:', fontsize = 20)\n",
    "targets = ['Iris-setosa', 'Iris-versicolor', 'Iris-virginica']\n",
    "colors = ['orange', 'g', 'b']\n",
    "for target, color in zip(targets,colors):\n",
    "    indicesToKeep = finalDf['target'] == target\n",
    "    ax.scatter(finalDf.loc[indicesToKeep, 'PC-1'], finalDf.loc[indicesToKeep, 'PC-2'], c = color, s = 30)\n",
    "ax.legend(targets)\n",
    "ax.grid()\n",
    "plt.show()"
   ]
  },
  {
   "cell_type": "code",
   "execution_count": 62,
   "metadata": {},
   "outputs": [
    {
     "name": "stdout",
     "output_type": "stream",
     "text": [
      "\n",
      "Clasification report:\n",
      "                  precision    recall  f1-score   support\n",
      "\n",
      "    Iris-setosa       1.00      0.65      0.79        17\n",
      "Iris-versicolor       0.42      1.00      0.59        20\n",
      " Iris-virginica       0.00      0.00      0.00        23\n",
      "\n",
      "       accuracy                           0.52        60\n",
      "      macro avg       0.47      0.55      0.46        60\n",
      "   weighted avg       0.42      0.52      0.42        60\n",
      "\n",
      "\n",
      "Confussion matrix:\n",
      " [[11  5  1]\n",
      " [ 0 20  0]\n",
      " [ 0 23  0]]\n"
     ]
    },
    {
     "name": "stderr",
     "output_type": "stream",
     "text": [
      "C:\\ProgramData\\Anaconda3\\lib\\site-packages\\sklearn\\utils\\validation.py:73: DataConversionWarning: A column-vector y was passed when a 1d array was expected. Please change the shape of y to (n_samples, ), for example using ravel().\n",
      "  return f(**kwargs)\n"
     ]
    }
   ],
   "source": [
    "# splitting testing ab=nd training data\n",
    "from sklearn.svm import SVC\n",
    "x_train, x_test, y_train, y_test = train_test_split(X_kpca1, Y, test_size=0.4, random_state=33)\n",
    "\n",
    "# training the SVM classifier\n",
    "clf=SVC()\n",
    "clf.fit(x_train, y_train)\n",
    "\n",
    "# predicting the results\n",
    "pred = clf.predict(x_test)\n",
    "\n",
    "from sklearn.metrics import classification_report\n",
    "from sklearn.metrics import confusion_matrix\n",
    "print('\\nClasification report:\\n', classification_report(y_test, pred))\n",
    "print ('\\nConfussion matrix:\\n',confusion_matrix(y_test, pred))"
   ]
  },
  {
   "cell_type": "code",
   "execution_count": 63,
   "metadata": {},
   "outputs": [
    {
     "name": "stdout",
     "output_type": "stream",
     "text": [
      "Finding !!! \n",
      "(150, 2)\n"
     ]
    }
   ],
   "source": [
    "#Applying Kernel PCA \n",
    "#Poly Kernel :\n",
    "#umber of components =2,degree=3 \n",
    "kpca = KPCA(PolynomialKernel(3))\n",
    "X_kpca=kpca.fit(X)\n",
    "X_kpca1 = kpca.predict(X,2)\n",
    "Components = kpca.predict(X,2)\n",
    "principalDf = pd.DataFrame(data = Components\n",
    "                 , columns = ['PC-1', 'PC-2'])\n",
    "print(X_kpca1.shape)"
   ]
  },
  {
   "cell_type": "code",
   "execution_count": 64,
   "metadata": {},
   "outputs": [
    {
     "data": {
      "image/png": "[encoded data removed]",
      "text/plain": [
       "<Figure size 576x576 with 1 Axes>"
      ]
     },
     "metadata": {
      "needs_background": "light"
     },
     "output_type": "display_data"
    }
   ],
   "source": [
    "# Adding lables\n",
    "finalDf = pd.concat([principalDf, df[['target']]], axis = 1)\n",
    "# Plotting pc1 & pc2\n",
    "fig = plt.figure(figsize = (8,8))\n",
    "ax = fig.add_subplot(1,1,1) \n",
    "ax.set_xlabel('PC-1', fontsize = 15)\n",
    "ax.set_ylabel('PC-2', fontsize = 15)\n",
    "ax.set_title('K-PCA on IRIS Dataset using polynomial Kernel:', fontsize = 20)\n",
    "targets = ['Iris-setosa', 'Iris-versicolor', 'Iris-virginica']\n",
    "colors = ['orange', 'g', 'b']\n",
    "for target, color in zip(targets,colors):\n",
    "    indicesToKeep = finalDf['target'] == target\n",
    "    ax.scatter(finalDf.loc[indicesToKeep, 'PC-1'], finalDf.loc[indicesToKeep, 'PC-2'], c = color, s = 30)\n",
    "ax.legend(targets)\n",
    "ax.grid()\n",
    "plt.show()"
   ]
  },
  {
   "cell_type": "code",
   "execution_count": 65,
   "metadata": {},
   "outputs": [
    {
     "name": "stdout",
     "output_type": "stream",
     "text": [
      "\n",
      "Clasification report:\n",
      "                  precision    recall  f1-score   support\n",
      "\n",
      "    Iris-setosa       1.00      1.00      1.00        17\n",
      "Iris-versicolor       0.67      1.00      0.80        20\n",
      " Iris-virginica       1.00      0.57      0.72        23\n",
      "\n",
      "       accuracy                           0.83        60\n",
      "      macro avg       0.89      0.86      0.84        60\n",
      "   weighted avg       0.89      0.83      0.83        60\n",
      "\n",
      "\n",
      "Confussion matrix:\n",
      " [[17  0  0]\n",
      " [ 0 20  0]\n",
      " [ 0 10 13]]\n"
     ]
    },
    {
     "name": "stderr",
     "output_type": "stream",
     "text": [
      "C:\\ProgramData\\Anaconda3\\lib\\site-packages\\sklearn\\utils\\validation.py:73: DataConversionWarning: A column-vector y was passed when a 1d array was expected. Please change the shape of y to (n_samples, ), for example using ravel().\n",
      "  return f(**kwargs)\n"
     ]
    }
   ],
   "source": [
    "# splitting testing ab=nd training data\n",
    "from sklearn.svm import SVC\n",
    "x_train, x_test, y_train, y_test = train_test_split(X_kpca1, Y, test_size=0.4, random_state=33)\n",
    "\n",
    "# training the SVM classifier\n",
    "clf=SVC()\n",
    "clf.fit(x_train, y_train)\n",
    "\n",
    "# predicting the results\n",
    "pred = clf.predict(x_test)\n",
    "\n",
    "from sklearn.metrics import classification_report\n",
    "from sklearn.metrics import confusion_matrix\n",
    "print('\\nClasification report:\\n', classification_report(y_test, pred))\n",
    "print ('\\nConfussion matrix:\\n',confusion_matrix(y_test, pred))"
   ]
  },
  {
   "cell_type": "code",
   "execution_count": 66,
   "metadata": {},
   "outputs": [
    {
     "name": "stderr",
     "output_type": "stream",
     "text": [
      "100%|█████████████████████████████████████████████████████████████████████████████| 150/150 [00:00<00:00, 49983.76it/s]\n",
      "100%|█████████████████████████████████████████████████████████████████████████████| 150/150 [00:00<00:00, 49975.82it/s]\n",
      "100%|█████████████████████████████████████████████████████████████████████████████| 150/150 [00:00<00:00, 75032.27it/s]"
     ]
    },
    {
     "name": "stdout",
     "output_type": "stream",
     "text": [
      "Finding !!! \n",
      "(150, 2)\n"
     ]
    },
    {
     "name": "stderr",
     "output_type": "stream",
     "text": [
      "\n"
     ]
    }
   ],
   "source": [
    "#Applying Kernel PCA \n",
    "#Laplacian Kernel :\n",
    "#umber of components =2,gamma=10 \n",
    "kpca = KPCA(LaplacianKernel(5))\n",
    "X_kpca=kpca.fit(X)\n",
    "X_kpca1 = kpca.predict(X,2)\n",
    "Components = kpca.predict(X,2)\n",
    "axes = pd.DataFrame(data = Components\n",
    "                 , columns = ['PC-1', 'PC-2'])\n",
    "print(X_kpca1.shape)"
   ]
  },
  {
   "cell_type": "code",
   "execution_count": 67,
   "metadata": {},
   "outputs": [
    {
     "data": {
      "image/png": "[encoded data removed]",
      "text/plain": [
       "<Figure size 576x576 with 1 Axes>"
      ]
     },
     "metadata": {
      "needs_background": "light"
     },
     "output_type": "display_data"
    }
   ],
   "source": [
    "# Adding lables\n",
    "finalDf = pd.concat([axes, df[['target']]], axis = 1)\n",
    "# Plotting pc1 & pc2\n",
    "fig = plt.figure(figsize = (8,8))\n",
    "ax = fig.add_subplot(1,1,1) \n",
    "ax.set_xlabel('PC-1', fontsize = 15)\n",
    "ax.set_ylabel('PC-2', fontsize = 15)\n",
    "ax.set_title('K-PCA on IRIS Dataset for Laplacian Kernel:', fontsize = 20)\n",
    "targets = ['Iris-setosa', 'Iris-versicolor', 'Iris-virginica']\n",
    "colors = ['orange', 'g', 'b']\n",
    "for target, color in zip(targets,colors):\n",
    "    indicesToKeep = finalDf['target'] == target\n",
    "    ax.scatter(finalDf.loc[indicesToKeep, 'PC-1'], finalDf.loc[indicesToKeep, 'PC-2'], c = color, s = 30)\n",
    "ax.legend(targets)\n",
    "ax.grid()\n",
    "plt.show()"
   ]
  },
  {
   "cell_type": "code",
   "execution_count": 68,
   "metadata": {},
   "outputs": [
    {
     "name": "stdout",
     "output_type": "stream",
     "text": [
      "\n",
      "Clasification report:\n",
      "                  precision    recall  f1-score   support\n",
      "\n",
      "    Iris-setosa       1.00      0.82      0.90        17\n",
      "Iris-versicolor       0.52      0.70      0.60        20\n",
      " Iris-virginica       0.53      0.43      0.48        23\n",
      "\n",
      "       accuracy                           0.63        60\n",
      "      macro avg       0.68      0.65      0.66        60\n",
      "   weighted avg       0.66      0.63      0.64        60\n",
      "\n",
      "\n",
      "Confussion matrix:\n",
      " [[14  0  3]\n",
      " [ 0 14  6]\n",
      " [ 0 13 10]]\n"
     ]
    },
    {
     "name": "stderr",
     "output_type": "stream",
     "text": [
      "C:\\ProgramData\\Anaconda3\\lib\\site-packages\\sklearn\\utils\\validation.py:73: DataConversionWarning: A column-vector y was passed when a 1d array was expected. Please change the shape of y to (n_samples, ), for example using ravel().\n",
      "  return f(**kwargs)\n"
     ]
    }
   ],
   "source": [
    "# splitting testing ab=nd training data\n",
    "from sklearn.svm import SVC\n",
    "x_train, x_test, y_train, y_test = train_test_split(X_kpca1, Y, test_size=0.4, random_state=33)\n",
    "\n",
    "# training the SVM classifier\n",
    "clf=SVC()\n",
    "clf.fit(x_train, y_train)\n",
    "\n",
    "# predicting the results\n",
    "pred = clf.predict(x_test)\n",
    "\n",
    "from sklearn.metrics import classification_report\n",
    "from sklearn.metrics import confusion_matrix\n",
    "print('\\nClasification report:\\n', classification_report(y_test, pred))\n",
    "print ('\\nConfussion matrix:\\n',confusion_matrix(y_test, pred))"
   ]
  },
  {
   "cell_type": "code",
   "execution_count": null,
   "metadata": {},
   "outputs": [],
   "source": []
  },
  {
   "cell_type": "code",
   "execution_count": null,
   "metadata": {},
   "outputs": [],
   "source": []
  },
  {
   "cell_type": "code",
   "execution_count": null,
   "metadata": {},
   "outputs": [],
   "source": []
  }
 ],
 "metadata": {
  "kernelspec": {
   "display_name": "Python 3",
   "language": "python",
   "name": "python3"
  },
  "language_info": {
   "codemirror_mode": {
    "name": "ipython",
    "version": 3
   },
   "file_extension": ".py",
   "mimetype": "text/x-python",
   "name": "python",
   "nbconvert_exporter": "python",
   "pygments_lexer": "ipython3",
   "version": "3.8.3"
  }
 },
 "nbformat": 4,
 "nbformat_minor": 4
}
